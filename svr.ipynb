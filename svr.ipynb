{
 "cells": [
  {
   "cell_type": "code",
   "execution_count": 1,
   "metadata": {},
   "outputs": [],
   "source": [
    "# imports\n",
    "import pandas as pd\n",
    "import numpy as np\n",
    "import matplotlib.pyplot as plt\n",
    "import seaborn as sns"
   ]
  },
  {
   "cell_type": "code",
   "execution_count": 2,
   "metadata": {},
   "outputs": [],
   "source": [
    "df = pd.read_csv('df_scaled.csv')\n",
    "df_pca = pd.read_csv('df_pca6.csv')"
   ]
  },
  {
   "cell_type": "code",
   "execution_count": 5,
   "metadata": {},
   "outputs": [
    {
     "name": "stdout",
     "output_type": "stream",
     "text": [
      "<class 'pandas.core.frame.DataFrame'>\n",
      "RangeIndex: 23081 entries, 0 to 23080\n",
      "Data columns (total 20 columns):\n",
      " #   Column            Non-Null Count  Dtype  \n",
      "---  ------            --------------  -----  \n",
      " 0   track_id          23081 non-null  object \n",
      " 1   track_popularity  23081 non-null  float64\n",
      " 2   danceability      23081 non-null  float64\n",
      " 3   energy            23081 non-null  float64\n",
      " 4   loudness          23081 non-null  float64\n",
      " 5   mode              23081 non-null  int64  \n",
      " 6   speechiness       23081 non-null  float64\n",
      " 7   acousticness      23081 non-null  float64\n",
      " 8   instrumentalness  23081 non-null  float64\n",
      " 9   liveness          23081 non-null  float64\n",
      " 10  valence           23081 non-null  float64\n",
      " 11  tempo             23081 non-null  float64\n",
      " 12  duration_ms       23081 non-null  float64\n",
      " 13  year              23081 non-null  float64\n",
      " 14  genre_edm         23081 non-null  bool   \n",
      " 15  genre_latin       23081 non-null  bool   \n",
      " 16  genre_pop         23081 non-null  bool   \n",
      " 17  genre_r&b         23081 non-null  bool   \n",
      " 18  genre_rap         23081 non-null  bool   \n",
      " 19  genre_rock        23081 non-null  bool   \n",
      "dtypes: bool(6), float64(12), int64(1), object(1)\n",
      "memory usage: 2.6+ MB\n"
     ]
    }
   ],
   "source": [
    "df.info()"
   ]
  },
  {
   "cell_type": "code",
   "execution_count": 6,
   "metadata": {},
   "outputs": [
    {
     "name": "stdout",
     "output_type": "stream",
     "text": [
      "<class 'pandas.core.frame.DataFrame'>\n",
      "RangeIndex: 23081 entries, 0 to 23080\n",
      "Data columns (total 8 columns):\n",
      " #   Column            Non-Null Count  Dtype  \n",
      "---  ------            --------------  -----  \n",
      " 0   PC0               23081 non-null  float64\n",
      " 1   PC1               23081 non-null  float64\n",
      " 2   PC2               23081 non-null  float64\n",
      " 3   PC3               23081 non-null  float64\n",
      " 4   PC4               23081 non-null  float64\n",
      " 5   PC5               23081 non-null  float64\n",
      " 6   track_id          17018 non-null  object \n",
      " 7   track_popularity  17018 non-null  float64\n",
      "dtypes: float64(7), object(1)\n",
      "memory usage: 1.4+ MB\n"
     ]
    }
   ],
   "source": [
    "df_pca.info()"
   ]
  },
  {
   "cell_type": "code",
   "execution_count": null,
   "metadata": {},
   "outputs": [],
   "source": []
  }
 ],
 "metadata": {
  "kernelspec": {
   "display_name": "Python 3",
   "language": "python",
   "name": "python3"
  },
  "language_info": {
   "codemirror_mode": {
    "name": "ipython",
    "version": 3
   },
   "file_extension": ".py",
   "mimetype": "text/x-python",
   "name": "python",
   "nbconvert_exporter": "python",
   "pygments_lexer": "ipython3",
   "version": "3.12.2"
  }
 },
 "nbformat": 4,
 "nbformat_minor": 2
}
