{
 "cells": [
  {
   "cell_type": "code",
   "execution_count": 48,
   "metadata": {},
   "outputs": [],
   "source": [
    "# imports\n",
    "import pandas as pd\n",
    "import numpy as np\n",
    "import matplotlib.pyplot as plt\n",
    "import seaborn as sns"
   ]
  },
  {
   "cell_type": "code",
   "execution_count": 66,
   "metadata": {},
   "outputs": [],
   "source": [
    "df = pd.read_csv('df_scaled.csv')\n",
    "df_pca = pd.read_csv('df_pca6.csv')"
   ]
  },
  {
   "cell_type": "code",
   "execution_count": 67,
   "metadata": {},
   "outputs": [
    {
     "name": "stdout",
     "output_type": "stream",
     "text": [
      "<class 'pandas.core.frame.DataFrame'>\n",
      "RangeIndex: 23081 entries, 0 to 23080\n",
      "Data columns (total 11 columns):\n",
      " #   Column            Non-Null Count  Dtype  \n",
      "---  ------            --------------  -----  \n",
      " 0   PC0               23081 non-null  float64\n",
      " 1   PC1               23081 non-null  float64\n",
      " 2   PC2               23081 non-null  float64\n",
      " 3   PC3               23081 non-null  float64\n",
      " 4   PC4               23081 non-null  float64\n",
      " 5   PC5               23081 non-null  float64\n",
      " 6   PC6               23081 non-null  float64\n",
      " 7   PC7               23081 non-null  float64\n",
      " 8   PC8               23081 non-null  float64\n",
      " 9   track_id          17018 non-null  object \n",
      " 10  track_popularity  17018 non-null  float64\n",
      "dtypes: float64(10), object(1)\n",
      "memory usage: 1.9+ MB\n"
     ]
    }
   ],
   "source": [
    "df_pca.info()"
   ]
  },
  {
   "cell_type": "code",
   "execution_count": 77,
   "metadata": {},
   "outputs": [
    {
     "data": {
      "text/plain": [
       "PC0                 0\n",
       "PC1                 0\n",
       "PC2                 0\n",
       "PC3                 0\n",
       "PC4                 0\n",
       "PC5                 0\n",
       "PC6                 0\n",
       "PC7                 0\n",
       "PC8                 0\n",
       "track_id            0\n",
       "track_popularity    0\n",
       "dtype: int64"
      ]
     },
     "execution_count": 77,
     "metadata": {},
     "output_type": "execute_result"
    }
   ],
   "source": [
    "df_pca.isnull().sum()"
   ]
  }
 ],
 "metadata": {
  "kernelspec": {
   "display_name": "Python 3",
   "language": "python",
   "name": "python3"
  },
  "language_info": {
   "codemirror_mode": {
    "name": "ipython",
    "version": 3
   },
   "file_extension": ".py",
   "mimetype": "text/x-python",
   "name": "python",
   "nbconvert_exporter": "python",
   "pygments_lexer": "ipython3",
   "version": "3.12.2"
  }
 },
 "nbformat": 4,
 "nbformat_minor": 2
}
