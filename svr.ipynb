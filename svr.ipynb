{
 "cells": [
  {
   "cell_type": "markdown",
   "metadata": {},
   "source": [
    "# Support Vector Machine (SVM)\n",
    "## Modelo Epsilon-Support Vector Regression (ε-SVM Regression)"
   ]
  },
  {
   "cell_type": "markdown",
   "metadata": {},
   "source": [
    "El objetivo es intentar predecir el 'track_popularity' de cualquier canción.\n",
    "\n",
    "Para ello probaermos distintas configuraciones de modelos SVR entrenados con distintas versiones del dataset:\n",
    "- Datos escalados,\n",
    "- PCA de 6 componentes (sólo *musical features*),\n",
    "- PCA de 9 componentes *(incluye dummies de 'genre').*\n"
   ]
  },
  {
   "cell_type": "code",
   "execution_count": 1,
   "metadata": {},
   "outputs": [],
   "source": [
    "# imports\n",
    "import pandas as pd\n",
    "import numpy as np\n",
    "import matplotlib.pyplot as plt\n",
    "import seaborn as sns"
   ]
  },
  {
   "cell_type": "markdown",
   "metadata": {},
   "source": [
    "# PCA 6 componentes"
   ]
  },
  {
   "cell_type": "code",
   "execution_count": 2,
   "metadata": {},
   "outputs": [],
   "source": [
    "df = pd.read_csv('df_scaled.csv')\n",
    "df_pca = pd.read_csv('df_pca6.csv')"
   ]
  },
  {
   "cell_type": "code",
   "execution_count": 3,
   "metadata": {},
   "outputs": [
    {
     "name": "stdout",
     "output_type": "stream",
     "text": [
      "<class 'pandas.core.frame.DataFrame'>\n",
      "RangeIndex: 23081 entries, 0 to 23080\n",
      "Data columns (total 8 columns):\n",
      " #   Column            Non-Null Count  Dtype  \n",
      "---  ------            --------------  -----  \n",
      " 0   PC0               23081 non-null  float64\n",
      " 1   PC1               23081 non-null  float64\n",
      " 2   PC2               23081 non-null  float64\n",
      " 3   PC3               23081 non-null  float64\n",
      " 4   PC4               23081 non-null  float64\n",
      " 5   PC5               23081 non-null  float64\n",
      " 6   track_id          23081 non-null  object \n",
      " 7   track_popularity  23081 non-null  float64\n",
      "dtypes: float64(7), object(1)\n",
      "memory usage: 1.4+ MB\n"
     ]
    }
   ],
   "source": [
    "df_pca.info()"
   ]
  },
  {
   "cell_type": "code",
   "execution_count": 14,
   "metadata": {},
   "outputs": [],
   "source": [
    "y = df_pca['track_popularity']\n",
    "X = df_pca.drop(columns=['track_popularity','track_id'])"
   ]
  },
  {
   "cell_type": "markdown",
   "metadata": {},
   "source": [
    "Separamos el dataset en sets de entrenamiento y testeo."
   ]
  },
  {
   "cell_type": "code",
   "execution_count": 16,
   "metadata": {},
   "outputs": [],
   "source": [
    "from sklearn.model_selection import train_test_split\n",
    "X_train, X_test, y_train, y_test = train_test_split(X, y, test_size=0.3, random_state=42)"
   ]
  },
  {
   "cell_type": "markdown",
   "metadata": {},
   "source": [
    "## Entrenamiento"
   ]
  },
  {
   "cell_type": "markdown",
   "metadata": {},
   "source": [
    "Realizamos una búsqueda de los mejores parámetros de Support Vector Regressor para nuestro dataset."
   ]
  },
  {
   "cell_type": "markdown",
   "metadata": {},
   "source": [
    "https://chatgpt.com/share/670c4daf-008c-8009-ab58-a9cb405f0f5a"
   ]
  },
  {
   "cell_type": "code",
   "execution_count": null,
   "metadata": {},
   "outputs": [],
   "source": [
    "from sklearn.svm import SVR\n",
    "from sklearn.model_selection import GridSearchCV\n",
    "\n",
    "svm_hitters = SVR()\n",
    "\n",
    "grid = GridSearchCV(svm_hitters,\n",
    "                    [{\"C\": [0.01, 0.1, 1, 5, 10, 100], \"kernel\": [\"linear\"]},\n",
    "                     {\"C\": [0.01, 0.1, 1, 5, 10, 100], \"gamma\": [0.1, 0.5, 1, 2, 10, 100], \"kernel\": [\"rbf\", \"sigmoid\"]},\n",
    "                     {\"C\": [0.01, 0.1, 1, 5, 10, 100], \"degree\": [2, 3, 4, 5, 6], \"kernel\": [\"poly\"]}],\n",
    "                    refit=True,\n",
    "                    cv=5,\n",
    "                    scoring='neg_mean_absolute_error') \n",
    "grid.fit(X_train,y_train)"
   ]
  },
  {
   "cell_type": "markdown",
   "metadata": {},
   "source": [
    "**Tiempo de ejecución: 1100 min**"
   ]
  },
  {
   "cell_type": "code",
   "execution_count": null,
   "metadata": {},
   "outputs": [],
   "source": [
    "grid.best_params_"
   ]
  },
  {
   "cell_type": "code",
   "execution_count": null,
   "metadata": {},
   "outputs": [],
   "source": [
    "# Vemos todos los datos de la busqueda como Dataframe que nos facilita la visualizacion\n",
    "pd.DataFrame(grid.cv_results_).sort_values(\"rank_test_score\")"
   ]
  },
  {
   "cell_type": "code",
   "execution_count": null,
   "metadata": {},
   "outputs": [],
   "source": [
    "from sklearn.metrics import (mean_absolute_error, r2_score,\n",
    "                             root_mean_squared_error, \n",
    "                             mean_absolute_percentage_error)\n",
    "\n",
    "svm_hitters_best = grid.best_estimator_\n",
    "\n",
    "y_pred = svm_hitters_best.predict(X_test)\n",
    "\n",
    "mae = mean_absolute_error(y_test, y_pred)\n",
    "rmse = root_mean_squared_error(y_test, y_pred)\n",
    "mape = mean_absolute_percentage_error(y_test, y_pred)\n",
    "r2 = r2_score(y_test, y_pred)\n",
    "\n",
    "print(f\"MAE de testeo fue: {mae}\")\n",
    "print(f\"RMSE de testeo fue: {rmse}\")\n",
    "print(f\"MAPE de testeo fue: {mape}\")\n",
    "print(f\"R2 de testeo fue: {r2}\")"
   ]
  },
  {
   "cell_type": "markdown",
   "metadata": {},
   "source": [
    "## Comparación"
   ]
  },
  {
   "cell_type": "markdown",
   "metadata": {},
   "source": [
    "Entrenamos una regresión lineal de Ridge para comparar las métricas."
   ]
  },
  {
   "cell_type": "code",
   "execution_count": null,
   "metadata": {},
   "outputs": [],
   "source": [
    "from sklearn.linear_model import Ridge\n",
    "\n",
    "ridge_hitters = Ridge()\n",
    "\n",
    "grid = GridSearchCV(ridge_hitters,\n",
    "                    {\"alpha\": np.linspace(0, 20, 1000)},\n",
    "                    refit=True,\n",
    "                    cv=5,\n",
    "                    scoring='neg_mean_absolute_error')\n",
    "grid.fit(X_train,y_train)"
   ]
  },
  {
   "cell_type": "code",
   "execution_count": null,
   "metadata": {},
   "outputs": [],
   "source": [
    "grid.best_params_"
   ]
  },
  {
   "cell_type": "code",
   "execution_count": null,
   "metadata": {},
   "outputs": [],
   "source": [
    "ridge_hitters = grid.best_estimator_\n",
    "\n",
    "y_pred = ridge_hitters.predict(X_test)\n",
    "\n",
    "mae = mean_absolute_error(y_test, y_pred)\n",
    "rmse = root_mean_squared_error(y_test, y_pred)\n",
    "mape = mean_absolute_percentage_error(y_test, y_pred)\n",
    "r2 = r2_score(y_test, y_pred)\n",
    "\n",
    "print(f\"MAE de testeo fue: {mae}\")\n",
    "print(f\"RMSE de testeo fue: {rmse}\")\n",
    "print(f\"MAPE de testeo fue: {mape}\")\n",
    "print(f\"R2 de testeo fue: {r2}\")"
   ]
  }
 ],
 "metadata": {
  "kernelspec": {
   "display_name": "Python 3",
   "language": "python",
   "name": "python3"
  },
  "language_info": {
   "codemirror_mode": {
    "name": "ipython",
    "version": 3
   },
   "file_extension": ".py",
   "mimetype": "text/x-python",
   "name": "python",
   "nbconvert_exporter": "python",
   "pygments_lexer": "ipython3",
   "version": "3.12.2"
  }
 },
 "nbformat": 4,
 "nbformat_minor": 2
}
